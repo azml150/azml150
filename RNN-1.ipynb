{
  "nbformat": 4,
  "nbformat_minor": 0,
  "metadata": {
    "colab": {
      "name": "3. airline",
      "provenance": [],
      "collapsed_sections": []
    },
    "kernelspec": {
      "name": "python3",
      "display_name": "Python 3"
    },
    "accelerator": "GPU"
  },
  "cells": [
    {
      "cell_type": "markdown",
      "metadata": {
        "id": "i-U1zZzMzwZ_"
      },
      "source": [
        "### keras RNN으로 여행자 수 예측"
      ]
    },
    {
      "cell_type": "markdown",
      "metadata": {
        "id": "k2WyJ2s0zur3"
      },
      "source": [
        "**1. 패키지 수입 및 파라미터 설정**"
      ]
    },
    {
      "cell_type": "code",
      "metadata": {
        "id": "eZSKx0PTzlKN"
      },
      "source": [
        "# 수입\r\n",
        "import pandas as pd\r\n",
        "import numpy as np\r\n",
        "import matplotlib.pyplot as plt\r\n",
        "\r\n",
        "from time import time #학습 시간 잴 때 쓰는 함수\r\n",
        "from sklearn.preprocessing import MinMaxScaler #,StandardScaler #데이터 정규화 함수\r\n",
        "from keras.layers import Dense\r\n",
        "from keras.layers import LSTM, InputLayer\r\n",
        "from keras.models import Sequential #인공 신경망 구현 방식\r\n",
        "from sklearn.model_selection import train_test_split #학습, 평가 4분할해주는 함수"
      ],
      "execution_count": 1,
      "outputs": []
    },
    {
      "cell_type": "code",
      "metadata": {
        "id": "MRP9u2pP1Cik"
      },
      "source": [
        "# RNN 파라미터\r\n",
        "MY_PAST =12\r\n",
        "MY_SPLIT = 0.8 #8대3으로 나눔\r\n",
        "MY_HIDDEN = 300 #은닉층, LSTM 안에 몇개의 뉴런을 사용할 것인지\r\n",
        "MY_SHAPE = (MY_PAST, 1) #쉐입은 괄호안에 #Q : ,1이 왜 필요한지? A : RNN설계도에서 확인, 각각의 독립된 차원으로 들어와야해서 = 2차원으로 들어와야해서 \r\n",
        "MY_EPOCH = 300"
      ],
      "execution_count": 2,
      "outputs": []
    },
    {
      "cell_type": "markdown",
      "metadata": {
        "id": "OmqYCaJy1kSf"
      },
      "source": [
        "**2. 데이터 처리**"
      ]
    },
    {
      "cell_type": "code",
      "metadata": {
        "colab": {
          "base_uri": "https://localhost:8080/"
        },
        "id": "JYd6f1b51n4_",
        "outputId": "3714b6c0-b87d-49ae-e452-23f76cb20d17"
      },
      "source": [
        "# 데이터 읽기\r\n",
        "raw = pd.read_csv('/content/drive/MyDrive/data/airline.csv',\r\n",
        "                  header=None, # 크라임 같은 영향을 주는 요소가 존재하지 않기 때문에 오류를 방지하기 위해 사용\r\n",
        "                  usecols=[1]) # 1번째 컬럼 사용할 거다.\r\n",
        "\r\n",
        "# 샘플 출력\r\n",
        "print(raw.head(15))\r\n",
        "print(raw.describe()) #함수니까 () 추가"
      ],
      "execution_count": 3,
      "outputs": [
        {
          "output_type": "stream",
          "text": [
            "      1\n",
            "0   112\n",
            "1   118\n",
            "2   132\n",
            "3   129\n",
            "4   121\n",
            "5   135\n",
            "6   148\n",
            "7   148\n",
            "8   136\n",
            "9   119\n",
            "10  104\n",
            "11  118\n",
            "12  115\n",
            "13  126\n",
            "14  141\n",
            "                1\n",
            "count  144.000000\n",
            "mean   280.298611\n",
            "std    119.966317\n",
            "min    104.000000\n",
            "25%    180.000000\n",
            "50%    265.500000\n",
            "75%    360.500000\n",
            "max    622.000000\n"
          ],
          "name": "stdout"
        }
      ]
    },
    {
      "cell_type": "code",
      "metadata": {
        "colab": {
          "base_uri": "https://localhost:8080/",
          "height": 338
        },
        "id": "FiPq2hHx4hIe",
        "outputId": "57a9a456-cbfd-4283-81f9-7e8ffe874ef4"
      },
      "source": [
        "plt.figure(figsize=(10, 5))\r\n",
        "plt.plot(raw)"
      ],
      "execution_count": 4,
      "outputs": [
        {
          "output_type": "execute_result",
          "data": {
            "text/plain": [
              "[<matplotlib.lines.Line2D at 0x7f94097c6fd0>]"
            ]
          },
          "metadata": {
            "tags": []
          },
          "execution_count": 4
        },
        {
          "output_type": "display_data",
          "data": {
            "image/png": "[encoded data removed]",
            "text/plain": [
              "<Figure size 720x360 with 1 Axes>"
            ]
          },
          "metadata": {
            "tags": [],
            "needs_background": "light"
          }
        }
      ]
    },
    {
      "cell_type": "code",
      "metadata": {
        "colab": {
          "base_uri": "https://localhost:8080/",
          "height": 1000
        },
        "id": "l6FYuIMS45oN",
        "outputId": "c2c24765-beea-419e-85a2-6a1c828240bd"
      },
      "source": [
        "# 데이터 정규화\r\n",
        "scaler = MinMaxScaler() #범위를 0~1로 바꿈 \r\n",
        "#scaler = StandardScaler()\r\n",
        "s_data = scaler.fit_transform(raw) \r\n",
        "#s_data = s_data*2 - 0.5 (범위 [-1, 1]로 바꾸기)\r\n",
        "\r\n",
        "print(type(s_data)) #numpy로 나옴\r\n",
        "print(s_data)\r\n",
        "print(s_data.flatten()) # numpy는 flatten()사용 가능\r\n",
        "plt.figure(figsize=(10, 5))\r\n",
        "plt.plot(s_data)"
      ],
      "execution_count": 5,
      "outputs": [
        {
          "output_type": "stream",
          "text": [
            "<class 'numpy.ndarray'>\n",
            "[[0.01544402]\n",
            " [0.02702703]\n",
            " [0.05405405]\n",
            " [0.04826255]\n",
            " [0.03281853]\n",
            " [0.05984556]\n",
            " [0.08494208]\n",
            " [0.08494208]\n",
            " [0.06177606]\n",
            " [0.02895753]\n",
            " [0.        ]\n",
            " [0.02702703]\n",
            " [0.02123552]\n",
            " [0.04247104]\n",
            " [0.07142857]\n",
            " [0.05984556]\n",
            " [0.04054054]\n",
            " [0.08687259]\n",
            " [0.12741313]\n",
            " [0.12741313]\n",
            " [0.1042471 ]\n",
            " [0.05598456]\n",
            " [0.01930502]\n",
            " [0.06949807]\n",
            " [0.07915058]\n",
            " [0.08880309]\n",
            " [0.14285714]\n",
            " [0.11389961]\n",
            " [0.13127413]\n",
            " [0.14285714]\n",
            " [0.18339768]\n",
            " [0.18339768]\n",
            " [0.15444015]\n",
            " [0.11196911]\n",
            " [0.08108108]\n",
            " [0.11969112]\n",
            " [0.12934363]\n",
            " [0.14671815]\n",
            " [0.17181467]\n",
            " [0.14864865]\n",
            " [0.15250965]\n",
            " [0.22007722]\n",
            " [0.24324324]\n",
            " [0.26640927]\n",
            " [0.2027027 ]\n",
            " [0.16795367]\n",
            " [0.13127413]\n",
            " [0.17374517]\n",
            " [0.17760618]\n",
            " [0.17760618]\n",
            " [0.25482625]\n",
            " [0.25289575]\n",
            " [0.24131274]\n",
            " [0.26833977]\n",
            " [0.30888031]\n",
            " [0.32432432]\n",
            " [0.25675676]\n",
            " [0.20656371]\n",
            " [0.14671815]\n",
            " [0.18725869]\n",
            " [0.19305019]\n",
            " [0.16216216]\n",
            " [0.25289575]\n",
            " [0.23745174]\n",
            " [0.25096525]\n",
            " [0.30888031]\n",
            " [0.38223938]\n",
            " [0.36486486]\n",
            " [0.2992278 ]\n",
            " [0.24131274]\n",
            " [0.19111969]\n",
            " [0.24131274]\n",
            " [0.26640927]\n",
            " [0.24903475]\n",
            " [0.31467181]\n",
            " [0.31853282]\n",
            " [0.32046332]\n",
            " [0.40733591]\n",
            " [0.5019305 ]\n",
            " [0.46911197]\n",
            " [0.4015444 ]\n",
            " [0.32818533]\n",
            " [0.25675676]\n",
            " [0.33590734]\n",
            " [0.34749035]\n",
            " [0.33397683]\n",
            " [0.41119691]\n",
            " [0.4034749 ]\n",
            " [0.41312741]\n",
            " [0.52123552]\n",
            " [0.5965251 ]\n",
            " [0.58108108]\n",
            " [0.48455598]\n",
            " [0.38996139]\n",
            " [0.32239382]\n",
            " [0.38996139]\n",
            " [0.40733591]\n",
            " [0.38030888]\n",
            " [0.48648649]\n",
            " [0.47104247]\n",
            " [0.48455598]\n",
            " [0.61389961]\n",
            " [0.6969112 ]\n",
            " [0.7007722 ]\n",
            " [0.57915058]\n",
            " [0.46911197]\n",
            " [0.38803089]\n",
            " [0.44787645]\n",
            " [0.45559846]\n",
            " [0.41312741]\n",
            " [0.4980695 ]\n",
            " [0.47104247]\n",
            " [0.5       ]\n",
            " [0.63899614]\n",
            " [0.74710425]\n",
            " [0.77413127]\n",
            " [0.57915058]\n",
            " [0.49227799]\n",
            " [0.3976834 ]\n",
            " [0.44980695]\n",
            " [0.49420849]\n",
            " [0.45945946]\n",
            " [0.58301158]\n",
            " [0.56370656]\n",
            " [0.61003861]\n",
            " [0.71042471]\n",
            " [0.85714286]\n",
            " [0.87837838]\n",
            " [0.69305019]\n",
            " [0.58494208]\n",
            " [0.4980695 ]\n",
            " [0.58108108]\n",
            " [0.6042471 ]\n",
            " [0.55405405]\n",
            " [0.60810811]\n",
            " [0.68918919]\n",
            " [0.71042471]\n",
            " [0.83204633]\n",
            " [1.        ]\n",
            " [0.96911197]\n",
            " [0.77992278]\n",
            " [0.68918919]\n",
            " [0.55212355]\n",
            " [0.63320463]]\n",
            "[0.01544402 0.02702703 0.05405405 0.04826255 0.03281853 0.05984556\n",
            " 0.08494208 0.08494208 0.06177606 0.02895753 0.         0.02702703\n",
            " 0.02123552 0.04247104 0.07142857 0.05984556 0.04054054 0.08687259\n",
            " 0.12741313 0.12741313 0.1042471  0.05598456 0.01930502 0.06949807\n",
            " 0.07915058 0.08880309 0.14285714 0.11389961 0.13127413 0.14285714\n",
            " 0.18339768 0.18339768 0.15444015 0.11196911 0.08108108 0.11969112\n",
            " 0.12934363 0.14671815 0.17181467 0.14864865 0.15250965 0.22007722\n",
            " 0.24324324 0.26640927 0.2027027  0.16795367 0.13127413 0.17374517\n",
            " 0.17760618 0.17760618 0.25482625 0.25289575 0.24131274 0.26833977\n",
            " 0.30888031 0.32432432 0.25675676 0.20656371 0.14671815 0.18725869\n",
            " 0.19305019 0.16216216 0.25289575 0.23745174 0.25096525 0.30888031\n",
            " 0.38223938 0.36486486 0.2992278  0.24131274 0.19111969 0.24131274\n",
            " 0.26640927 0.24903475 0.31467181 0.31853282 0.32046332 0.40733591\n",
            " 0.5019305  0.46911197 0.4015444  0.32818533 0.25675676 0.33590734\n",
            " 0.34749035 0.33397683 0.41119691 0.4034749  0.41312741 0.52123552\n",
            " 0.5965251  0.58108108 0.48455598 0.38996139 0.32239382 0.38996139\n",
            " 0.40733591 0.38030888 0.48648649 0.47104247 0.48455598 0.61389961\n",
            " 0.6969112  0.7007722  0.57915058 0.46911197 0.38803089 0.44787645\n",
            " 0.45559846 0.41312741 0.4980695  0.47104247 0.5        0.63899614\n",
            " 0.74710425 0.77413127 0.57915058 0.49227799 0.3976834  0.44980695\n",
            " 0.49420849 0.45945946 0.58301158 0.56370656 0.61003861 0.71042471\n",
            " 0.85714286 0.87837838 0.69305019 0.58494208 0.4980695  0.58108108\n",
            " 0.6042471  0.55405405 0.60810811 0.68918919 0.71042471 0.83204633\n",
            " 1.         0.96911197 0.77992278 0.68918919 0.55212355 0.63320463]\n"
          ],
          "name": "stdout"
        },
        {
          "output_type": "execute_result",
          "data": {
            "text/plain": [
              "[<matplotlib.lines.Line2D at 0x7f94092a9c88>]"
            ]
          },
          "metadata": {
            "tags": []
          },
          "execution_count": 5
        },
        {
          "output_type": "display_data",
          "data": {
            "image/png": "[encoded data removed]",
            "text/plain": [
              "<Figure size 720x360 with 1 Axes>"
            ]
          },
          "metadata": {
            "tags": [],
            "needs_background": "light"
          }
        }
      ]
    },
    {
      "cell_type": "code",
      "metadata": {
        "colab": {
          "base_uri": "https://localhost:8080/"
        },
        "id": "h1ooulJgLwFO",
        "outputId": "20d4a70b-2587-489a-f751-733acde7b3f6"
      },
      "source": [
        "# 데이터 분할\r\n",
        "data =[]\r\n",
        "for i in range(len(s_data) - MY_PAST) : #len(s_data)=12, MY_PAST=12, 144-12=132\r\n",
        "    data.append(s_data[i: i + MY_PAST + 1]) #[i=0 : 0+MY_PAST+1], append가 data에 넣으라는 명령어\r\n",
        "\r\n",
        "print('한 묶음의 크기: ', len(data[0]))\r\n",
        "print('총 묶음 수: ', len(data))\r\n",
        "print('첫번째 묶음 내용\\n', data[0])\r\n",
        "print('두번째 묶음 내용\\n', data[1])"
      ],
      "execution_count": 6,
      "outputs": [
        {
          "output_type": "stream",
          "text": [
            "한 묶음의 크기:  13\n",
            "총 묶음 수:  132\n",
            "첫번째 묶음 내용\n",
            " [[0.01544402]\n",
            " [0.02702703]\n",
            " [0.05405405]\n",
            " [0.04826255]\n",
            " [0.03281853]\n",
            " [0.05984556]\n",
            " [0.08494208]\n",
            " [0.08494208]\n",
            " [0.06177606]\n",
            " [0.02895753]\n",
            " [0.        ]\n",
            " [0.02702703]\n",
            " [0.02123552]]\n",
            "두번째 묶음 내용\n",
            " [[0.02702703]\n",
            " [0.05405405]\n",
            " [0.04826255]\n",
            " [0.03281853]\n",
            " [0.05984556]\n",
            " [0.08494208]\n",
            " [0.08494208]\n",
            " [0.06177606]\n",
            " [0.02895753]\n",
            " [0.        ]\n",
            " [0.02702703]\n",
            " [0.02123552]\n",
            " [0.04247104]]\n"
          ],
          "name": "stdout"
        }
      ]
    },
    {
      "cell_type": "code",
      "metadata": {
        "colab": {
          "base_uri": "https://localhost:8080/"
        },
        "id": "X99Wb8W9Vocx",
        "outputId": "aa4cb5b0-7f29-4252-933b-d7bdf31c04d7"
      },
      "source": [
        "# 데이터를 numpy로 전환\r\n",
        "print(type(data))\r\n",
        "data = np.array(data) #numpy로 전환하기\r\n",
        "print(type(data))\r\n",
        "\r\n",
        "# 묶음들을  임의로 섞음\r\n",
        "#np.random.shuffle(data)\r\n",
        "print(data.shape)\r\n",
        "#print(data)\r\n",
        "\r\n",
        "# 데이터를 입력과 출력으로 분할\r\n",
        "X_data = data[:, 0:MY_PAST] #[총 행, 총 열], :첨부터 끝까지 취한다\r\n",
        "Y_data = data[:, -1] #행은 다취하고 열은 맨 마지막만 취한다\r\n",
        "\r\n",
        "print('입력 데이터의 모양:', X_data.shape) #3차원 유지되고 있음\r\n",
        "print('출력 데이터의 모양:', Y_data.shape)\r\n"
      ],
      "execution_count": 7,
      "outputs": [
        {
          "output_type": "stream",
          "text": [
            "<class 'list'>\n",
            "<class 'numpy.ndarray'>\n",
            "(132, 13, 1)\n",
            "입력 데이터의 모양: (132, 12, 1)\n",
            "출력 데이터의 모양: (132, 1)\n"
          ],
          "name": "stdout"
        }
      ]
    },
    {
      "cell_type": "code",
      "metadata": {
        "colab": {
          "base_uri": "https://localhost:8080/"
        },
        "id": "1rh9Cbj4eMU-",
        "outputId": "e8f99b4d-032d-4a40-ad77-fc10ef83af13"
      },
      "source": [
        "# 데이터 4분할\r\n",
        "X_train, X_test, Y_train, Y_test = train_test_split(X_data,\r\n",
        "                                                    Y_data,\r\n",
        "                                                    train_size=MY_SPLIT,\r\n",
        "                                                    shuffle=False)\r\n",
        "\r\n",
        "# 최종 데이터 모양 출력\r\n",
        "print('학습용 입력 데이터 모양: ', X_train.shape)\r\n",
        "print('학습용 출력 데이터 모양: ', Y_train.shape)\r\n",
        "print('평가용 입력 데이터 모양: ', X_test.shape)\r\n",
        "print('평가용 출력 데이터 모양: ', Y_test.shape)\r\n"
      ],
      "execution_count": 8,
      "outputs": [
        {
          "output_type": "stream",
          "text": [
            "학습용 입력 데이터 모양:  (105, 12, 1)\n",
            "학습용 출력 데이터 모양:  (105, 1)\n",
            "평가용 입력 데이터 모양:  (27, 12, 1)\n",
            "평가용 출력 데이터 모양:  (27, 1)\n"
          ],
          "name": "stdout"
        }
      ]
    },
    {
      "cell_type": "markdown",
      "metadata": {
        "id": "B8AJGC_deytW"
      },
      "source": [
        "**3. 인공 신경망 구현**"
      ]
    },
    {
      "cell_type": "code",
      "metadata": {
        "colab": {
          "base_uri": "https://localhost:8080/"
        },
        "id": "_DkjoroRe18O",
        "outputId": "d6bdb7be-9643-44fc-e7d5-2510ff4a9625"
      },
      "source": [
        "# RNN 구현\r\n",
        "model = Sequential()\r\n",
        "\r\n",
        "model.add(InputLayer(input_shape=MY_SHAPE)) #입력층 설정 #입력층은 서머리에 포함안됨\r\n",
        "\r\n",
        "model.add(LSTM(units=MY_HIDDEN)) #LSTM안의 은닉층 설정\r\n",
        "\r\n",
        "model.add(Dense(units=1,\r\n",
        "                activation='sigmoid')) #마지막 Dense 은닉층 설정, 활성화 함수 설정 #범위 [-1, 1]로 바꾸면 tanh으로 활성화 함수 변경\r\n",
        "\r\n",
        "print('RNN 요약')\r\n",
        "model.summary()"
      ],
      "execution_count": 9,
      "outputs": [
        {
          "output_type": "stream",
          "text": [
            "RNN 요약\n",
            "Model: \"sequential\"\n",
            "_________________________________________________________________\n",
            "Layer (type)                 Output Shape              Param #   \n",
            "=================================================================\n",
            "lstm (LSTM)                  (None, 300)               362400    \n",
            "_________________________________________________________________\n",
            "dense (Dense)                (None, 1)                 301       \n",
            "=================================================================\n",
            "Total params: 362,701\n",
            "Trainable params: 362,701\n",
            "Non-trainable params: 0\n",
            "_________________________________________________________________\n"
          ],
          "name": "stdout"
        }
      ]
    },
    {
      "cell_type": "markdown",
      "metadata": {
        "id": "DHZlaJJmnzew"
      },
      "source": [
        "**4. 인공 신경망 학습**"
      ]
    },
    {
      "cell_type": "code",
      "metadata": {
        "colab": {
          "base_uri": "https://localhost:8080/"
        },
        "id": "YcPhztgNnr3z",
        "outputId": "4523f1ea-82fc-4430-bf9c-f700b340ae06"
      },
      "source": [
        "# RNN 학습 설정\r\n",
        "model.compile(optimizer='rmsprop',\r\n",
        "              loss='msle')    #손실 함수 \r\n",
        "              \r\n",
        "print('학습 시작')\r\n",
        "begin = time()\r\n",
        "\r\n",
        "model.fit(x=X_train,\r\n",
        "          y=Y_train,\r\n",
        "          epochs=MY_EPOCH,\r\n",
        "          verbose=0)\r\n",
        "\r\n",
        "end = time()\r\n",
        "print('학습 시간: {:.2f}'.format(end - begin))"
      ],
      "execution_count": 10,
      "outputs": [
        {
          "output_type": "stream",
          "text": [
            "학습 시작\n",
            "학습 시간: 7.55\n"
          ],
          "name": "stdout"
        }
      ]
    },
    {
      "cell_type": "markdown",
      "metadata": {
        "id": "_vZBWBpPqK0S"
      },
      "source": [
        "**5. 인공 신경망 평가**"
      ]
    },
    {
      "cell_type": "code",
      "metadata": {
        "colab": {
          "base_uri": "https://localhost:8080/"
        },
        "id": "1Y2s_FSzqNg6",
        "outputId": "ceea6303-47a5-4c08-ec4d-4b3edc3d2859"
      },
      "source": [
        "# RNN 평가\r\n",
        "score = model.evaluate(x=X_test,\r\n",
        "                       y=Y_test,\r\n",
        "                       verbose=0)\r\n",
        "\r\n",
        "print('최종 손실값: ', score)\r\n"
      ],
      "execution_count": 11,
      "outputs": [
        {
          "output_type": "stream",
          "text": [
            "최종 손실값:  0.0038223585579544306\n"
          ],
          "name": "stdout"
        }
      ]
    },
    {
      "cell_type": "markdown",
      "metadata": {
        "id": "YdVumTS44oE1"
      },
      "source": [
        "**6. 인공 신경망 예측**"
      ]
    },
    {
      "cell_type": "code",
      "metadata": {
        "colab": {
          "base_uri": "https://localhost:8080/",
          "height": 446
        },
        "id": "SSvY7gOp_bFh",
        "outputId": "26107422-382b-4891-8459-7277db3fcdcd"
      },
      "source": [
        "# RNN으로 예측\r\n",
        "pred = model.predict(x=X_test)\r\n",
        "\r\n",
        "# 예측 결과 및 정답 그래프 그리기\r\n",
        "plt.figure(figsize=(10, 7))\r\n",
        "plt.plot(pred, 'r')\r\n",
        "plt.plot(Y_test, 'g')"
      ],
      "execution_count": 12,
      "outputs": [
        {
          "output_type": "execute_result",
          "data": {
            "text/plain": [
              "[<matplotlib.lines.Line2D at 0x7f93b0109898>]"
            ]
          },
          "metadata": {
            "tags": []
          },
          "execution_count": 12
        },
        {
          "output_type": "display_data",
          "data": {
            "image/png": "[encoded data removed]",
            "text/plain": [
              "<Figure size 720x504 with 1 Axes>"
            ]
          },
          "metadata": {
            "tags": [],
            "needs_background": "light"
          }
        }
      ]
    },
    {
      "cell_type": "code",
      "metadata": {
        "colab": {
          "base_uri": "https://localhost:8080/"
        },
        "id": "4RYYINAH4uIT",
        "outputId": "79f4ba30-787d-4aae-d1e0-f56dd3f042b7"
      },
      "source": [
        "print('역전환 전: ', pred)\r\n",
        "print(pred.shape)\r\n",
        "\r\n",
        "# 데이터 역전환 (압축했던 데이터를 다시 펴줌)\r\n",
        "pred = scaler.inverse_transform(pred)\r\n",
        "\r\n",
        "print('역전환 후: ', pred)\r\n",
        "print(pred.shape)\r\n",
        "\r\n",
        "# squeeze 결과\r\n",
        "tmp = np.squeeze(pred).astype(int) #astype은 정수형으로 만듦\r\n",
        "print('squeeze 후: ', tmp) #2차원에서 1차원으로 줄이기\r\n",
        "print(tmp.shape)\r\n"
      ],
      "execution_count": 13,
      "outputs": [
        {
          "output_type": "stream",
          "text": [
            "역전환 전:  [[0.5474313 ]\n",
            " [0.50355023]\n",
            " [0.49607328]\n",
            " [0.45919603]\n",
            " [0.4360338 ]\n",
            " [0.4550315 ]\n",
            " [0.4753715 ]\n",
            " [0.54562503]\n",
            " [0.66265047]\n",
            " [0.7453533 ]\n",
            " [0.74388105]\n",
            " [0.63393885]\n",
            " [0.5598665 ]\n",
            " [0.5076368 ]\n",
            " [0.5033967 ]\n",
            " [0.49034533]\n",
            " [0.47919393]\n",
            " [0.50878495]\n",
            " [0.5259419 ]\n",
            " [0.5921293 ]\n",
            " [0.68583155]\n",
            " [0.76562846]\n",
            " [0.76521224]\n",
            " [0.6845899 ]\n",
            " [0.6226916 ]\n",
            " [0.58213747]\n",
            " [0.5709134 ]]\n",
            "(27, 1)\n",
            "역전환 후:  [[387.56943]\n",
            " [364.83902]\n",
            " [360.96594]\n",
            " [341.86356]\n",
            " [329.8655 ]\n",
            " [339.70633]\n",
            " [350.24243]\n",
            " [386.6338 ]\n",
            " [447.25296]\n",
            " [490.09302]\n",
            " [489.33038]\n",
            " [432.38034]\n",
            " [394.01086]\n",
            " [366.95587]\n",
            " [364.7595 ]\n",
            " [357.99887]\n",
            " [352.22247]\n",
            " [367.55063]\n",
            " [376.43793]\n",
            " [410.723  ]\n",
            " [459.26074]\n",
            " [500.59555]\n",
            " [500.37994]\n",
            " [458.61758]\n",
            " [426.55426]\n",
            " [405.5472 ]\n",
            " [399.73315]]\n",
            "(27, 1)\n",
            "squeeze 후:  [387 364 360 341 329 339 350 386 447 490 489 432 394 366 364 357 352 367\n",
            " 376 410 459 500 500 458 426 405 399]\n",
            "(27,)\n"
          ],
          "name": "stdout"
        }
      ]
    },
    {
      "cell_type": "code",
      "metadata": {
        "colab": {
          "base_uri": "https://localhost:8080/",
          "height": 1000
        },
        "id": "poUL85wH7d1z",
        "outputId": "cc351a59-101f-4f63-8306-dc2aee706969"
      },
      "source": [
        "# 정답 출력\r\n",
        "print('역전환 전 정답 : ', Y_test)\r\n",
        "Y_test= scaler.inverse_transform(Y_test)\r\n",
        "print('역전환 후 정답: ', Y_test)\r\n",
        "\r\n",
        "# 예측 결과 및 정답 그래프 그리기\r\n",
        "plt.figure(figsize=(10, 7))\r\n",
        "plt.plot(pred, 'r')\r\n",
        "plt.plot(Y_test, 'g')"
      ],
      "execution_count": 14,
      "outputs": [
        {
          "output_type": "stream",
          "text": [
            "역전환 전 정답 :  [[0.49227799]\n",
            " [0.3976834 ]\n",
            " [0.44980695]\n",
            " [0.49420849]\n",
            " [0.45945946]\n",
            " [0.58301158]\n",
            " [0.56370656]\n",
            " [0.61003861]\n",
            " [0.71042471]\n",
            " [0.85714286]\n",
            " [0.87837838]\n",
            " [0.69305019]\n",
            " [0.58494208]\n",
            " [0.4980695 ]\n",
            " [0.58108108]\n",
            " [0.6042471 ]\n",
            " [0.55405405]\n",
            " [0.60810811]\n",
            " [0.68918919]\n",
            " [0.71042471]\n",
            " [0.83204633]\n",
            " [1.        ]\n",
            " [0.96911197]\n",
            " [0.77992278]\n",
            " [0.68918919]\n",
            " [0.55212355]\n",
            " [0.63320463]]\n",
            "역전환 후 정답:  [[359.]\n",
            " [310.]\n",
            " [337.]\n",
            " [360.]\n",
            " [342.]\n",
            " [406.]\n",
            " [396.]\n",
            " [420.]\n",
            " [472.]\n",
            " [548.]\n",
            " [559.]\n",
            " [463.]\n",
            " [407.]\n",
            " [362.]\n",
            " [405.]\n",
            " [417.]\n",
            " [391.]\n",
            " [419.]\n",
            " [461.]\n",
            " [472.]\n",
            " [535.]\n",
            " [622.]\n",
            " [606.]\n",
            " [508.]\n",
            " [461.]\n",
            " [390.]\n",
            " [432.]]\n"
          ],
          "name": "stdout"
        },
        {
          "output_type": "execute_result",
          "data": {
            "text/plain": [
              "[<matplotlib.lines.Line2D at 0x7f93b0070e10>]"
            ]
          },
          "metadata": {
            "tags": []
          },
          "execution_count": 14
        },
        {
          "output_type": "display_data",
          "data": {
            "image/png": "[encoded data removed]",
            "text/plain": [
              "<Figure size 720x504 with 1 Axes>"
            ]
          },
          "metadata": {
            "tags": [],
            "needs_background": "light"
          }
        }
      ]
    }
  ]
}