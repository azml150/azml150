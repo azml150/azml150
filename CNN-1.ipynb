{
  "nbformat": 4,
  "nbformat_minor": 0,
  "metadata": {
    "accelerator": "GPU",
    "colab": {
      "name": "2. fashion",
      "provenance": [],
      "collapsed_sections": []
    },
    "kernelspec": {
      "display_name": "Python 3",
      "name": "python3"
    }
  },
  "cells": [
    {
      "cell_type": "markdown",
      "metadata": {
        "id": "SmuYyrKDYqql"
      },
      "source": [
        "### keras CNN으로 패션 아이템 구분하기"
      ]
    },
    {
      "cell_type": "markdown",
      "metadata": {
        "id": "s9z9BffvYzPj"
      },
      "source": [
        "**1. 패키지 수입 및 파라미터 지정**"
      ]
    },
    {
      "cell_type": "code",
      "metadata": {
        "id": "QVvEX9MHYko6"
      },
      "source": [
        "# 패키지 수입\r\n",
        "import matplotlib.pyplot as plt\r\n",
        "import numpy as np\r\n",
        "\r\n",
        "from time import time\r\n",
        "from keras.datasets import fashion_mnist\r\n",
        "from keras.models import Sequential\r\n",
        "from keras.utils import np_utils\r\n",
        "\r\n",
        "from keras.layers import Flatten\r\n",
        "from keras.layers import Dense, MaxPool2D #풀링\r\n",
        "from keras.layers import Conv2D, InputLayer #Conv2D=콘볼류션"
      ],
      "execution_count": 1,
      "outputs": []
    },
    {
      "cell_type": "code",
      "metadata": {
        "id": "M32vRzwEacLh"
      },
      "source": [
        "# 파라미터\r\n",
        "MY_EPOCH = 10\r\n",
        "#MY_EPOCH = 0 #epoch 값을  바꾸는 문제\r\n",
        "#MY_EPOCH = 20\r\n",
        "#MY_EPOCH = 100\r\n",
        "MY_BATCH = 250 #6만개의 이미지를 500개씩 가져온다\r\n",
        "#MY_BATCH = 16 #학습시간이 늘어난다."
      ],
      "execution_count": 2,
      "outputs": []
    },
    {
      "cell_type": "markdown",
      "metadata": {
        "id": "dsu3TwFNdl06"
      },
      "source": [
        "**2. 데이터 처리**"
      ]
    },
    {
      "cell_type": "code",
      "metadata": {
        "colab": {
          "base_uri": "https://localhost:8080/"
        },
        "id": "XcNVigbvdryH",
        "outputId": "d83cfaa2-735e-4a78-e526-49503d6ab054"
      },
      "source": [
        "# 데이터 불러오기\r\n",
        "(X_train, Y_train), (X_test, Y_test) = fashion_mnist.load_data()\r\n",
        "\r\n",
        "print('학습용 입력 데이터: ', X_train.shape) #3차원 데이터\r\n",
        "print('학습용 출력 데이터: ', Y_train.shape)\r\n",
        "\r\n",
        "print('평가용 입력 데이터: ', X_test.shape)\r\n",
        "print('평가용 출력 데이터: ', Y_test.shape)\r\n"
      ],
      "execution_count": 3,
      "outputs": [
        {
          "output_type": "stream",
          "text": [
            "학습용 입력 데이터:  (60000, 28, 28)\n",
            "학습용 출력 데이터:  (60000,)\n",
            "평가용 입력 데이터:  (10000, 28, 28)\n",
            "평가용 출력 데이터:  (10000,)\n"
          ],
          "name": "stdout"
        }
      ]
    },
    {
      "cell_type": "code",
      "metadata": {
        "colab": {
          "base_uri": "https://localhost:8080/",
          "height": 1000
        },
        "id": "5JzEbiMkfQry",
        "outputId": "2b129905-1f77-4dfe-fe23-8ce5d7399c80"
      },
      "source": [
        "# 데이터 샘플 출력\r\n",
        "print('학습용 데이터 첫번째 이미지 화소 정보')\r\n",
        "print(X_train[0])\r\n",
        "plt.figure(figsize=(5,5))\r\n",
        "plt.imshow(X_train[0], cmap='gray')\r\n",
        "print('학습용 데이터 첫번째 이미지의 라벨: ', Y_train[0])\r\n"
      ],
      "execution_count": 4,
      "outputs": [
        {
          "output_type": "stream",
          "text": [
            "학습용 데이터 첫번째 이미지 화소 정보\n",
            "[[  0   0   0   0   0   0   0   0   0   0   0   0   0   0   0   0   0   0\n",
            "    0   0   0   0   0   0   0   0   0   0]\n",
            " [  0   0   0   0   0   0   0   0   0   0   0   0   0   0   0   0   0   0\n",
            "    0   0   0   0   0   0   0   0   0   0]\n",
            " [  0   0   0   0   0   0   0   0   0   0   0   0   0   0   0   0   0   0\n",
            "    0   0   0   0   0   0   0   0   0   0]\n",
            " [  0   0   0   0   0   0   0   0   0   0   0   0   1   0   0  13  73   0\n",
            "    0   1   4   0   0   0   0   1   1   0]\n",
            " [  0   0   0   0   0   0   0   0   0   0   0   0   3   0  36 136 127  62\n",
            "   54   0   0   0   1   3   4   0   0   3]\n",
            " [  0   0   0   0   0   0   0   0   0   0   0   0   6   0 102 204 176 134\n",
            "  144 123  23   0   0   0   0  12  10   0]\n",
            " [  0   0   0   0   0   0   0   0   0   0   0   0   0   0 155 236 207 178\n",
            "  107 156 161 109  64  23  77 130  72  15]\n",
            " [  0   0   0   0   0   0   0   0   0   0   0   1   0  69 207 223 218 216\n",
            "  216 163 127 121 122 146 141  88 172  66]\n",
            " [  0   0   0   0   0   0   0   0   0   1   1   1   0 200 232 232 233 229\n",
            "  223 223 215 213 164 127 123 196 229   0]\n",
            " [  0   0   0   0   0   0   0   0   0   0   0   0   0 183 225 216 223 228\n",
            "  235 227 224 222 224 221 223 245 173   0]\n",
            " [  0   0   0   0   0   0   0   0   0   0   0   0   0 193 228 218 213 198\n",
            "  180 212 210 211 213 223 220 243 202   0]\n",
            " [  0   0   0   0   0   0   0   0   0   1   3   0  12 219 220 212 218 192\n",
            "  169 227 208 218 224 212 226 197 209  52]\n",
            " [  0   0   0   0   0   0   0   0   0   0   6   0  99 244 222 220 218 203\n",
            "  198 221 215 213 222 220 245 119 167  56]\n",
            " [  0   0   0   0   0   0   0   0   0   4   0   0  55 236 228 230 228 240\n",
            "  232 213 218 223 234 217 217 209  92   0]\n",
            " [  0   0   1   4   6   7   2   0   0   0   0   0 237 226 217 223 222 219\n",
            "  222 221 216 223 229 215 218 255  77   0]\n",
            " [  0   3   0   0   0   0   0   0   0  62 145 204 228 207 213 221 218 208\n",
            "  211 218 224 223 219 215 224 244 159   0]\n",
            " [  0   0   0   0  18  44  82 107 189 228 220 222 217 226 200 205 211 230\n",
            "  224 234 176 188 250 248 233 238 215   0]\n",
            " [  0  57 187 208 224 221 224 208 204 214 208 209 200 159 245 193 206 223\n",
            "  255 255 221 234 221 211 220 232 246   0]\n",
            " [  3 202 228 224 221 211 211 214 205 205 205 220 240  80 150 255 229 221\n",
            "  188 154 191 210 204 209 222 228 225   0]\n",
            " [ 98 233 198 210 222 229 229 234 249 220 194 215 217 241  65  73 106 117\n",
            "  168 219 221 215 217 223 223 224 229  29]\n",
            " [ 75 204 212 204 193 205 211 225 216 185 197 206 198 213 240 195 227 245\n",
            "  239 223 218 212 209 222 220 221 230  67]\n",
            " [ 48 203 183 194 213 197 185 190 194 192 202 214 219 221 220 236 225 216\n",
            "  199 206 186 181 177 172 181 205 206 115]\n",
            " [  0 122 219 193 179 171 183 196 204 210 213 207 211 210 200 196 194 191\n",
            "  195 191 198 192 176 156 167 177 210  92]\n",
            " [  0   0  74 189 212 191 175 172 175 181 185 188 189 188 193 198 204 209\n",
            "  210 210 211 188 188 194 192 216 170   0]\n",
            " [  2   0   0   0  66 200 222 237 239 242 246 243 244 221 220 193 191 179\n",
            "  182 182 181 176 166 168  99  58   0   0]\n",
            " [  0   0   0   0   0   0   0  40  61  44  72  41  35   0   0   0   0   0\n",
            "    0   0   0   0   0   0   0   0   0   0]\n",
            " [  0   0   0   0   0   0   0   0   0   0   0   0   0   0   0   0   0   0\n",
            "    0   0   0   0   0   0   0   0   0   0]\n",
            " [  0   0   0   0   0   0   0   0   0   0   0   0   0   0   0   0   0   0\n",
            "    0   0   0   0   0   0   0   0   0   0]]\n",
            "학습용 데이터 첫번째 이미지의 라벨:  9\n"
          ],
          "name": "stdout"
        },
        {
          "output_type": "display_data",
          "data": {
            "image/png": "[encoded data removed]",
            "text/plain": [
              "<Figure size 360x360 with 1 Axes>"
            ]
          },
          "metadata": {
            "tags": [],
            "needs_background": "light"
          }
        }
      ]
    },
    {
      "cell_type": "code",
      "metadata": {
        "id": "5EicH6SLhHMB"
      },
      "source": [
        "# 데이터 스케일링 (0에서 1사이의 정수로 바꿔주기)\r\n",
        "X_train = X_train /255.0 \r\n",
        "X_test = X_test /255.0\r\n",
        "\r\n",
        "# 이미지 채널 정보 추가 (,1) reshape 함수\r\n",
        "X_train = X_train.reshape(60000, 28, 28, 1)\r\n",
        "X_test = X_test.reshape(10000, 28, 28, 1)"
      ],
      "execution_count": 5,
      "outputs": []
    },
    {
      "cell_type": "code",
      "metadata": {
        "colab": {
          "base_uri": "https://localhost:8080/"
        },
        "id": "96skVKJojD9Z",
        "outputId": "655d6c43-e06f-4e83-d9c7-6786bb430d00"
      },
      "source": [
        "# 라벨 정보 수정\r\n",
        "Y_train = np_utils.to_categorical(Y_train, 10)\r\n",
        "print('학습용 데이터 첫번째 이미지의 라벨: ', Y_train[0])\r\n",
        "Y_test = np_utils.to_categorical(Y_test, 10)\r\n",
        "\r\n",
        "print('학습용 입력 데이터: ', X_train.shape)\r\n",
        "print('학습용 출력 데이터: ', Y_train.shape)\r\n",
        "\r\n",
        "print('평가용 입력 데이터: ', X_test.shape)\r\n",
        "print('평가용 출력 데이터: ', Y_test.shape)"
      ],
      "execution_count": 6,
      "outputs": [
        {
          "output_type": "stream",
          "text": [
            "학습용 데이터 첫번째 이미지의 라벨:  [0. 0. 0. 0. 0. 0. 0. 0. 0. 1.]\n",
            "학습용 입력 데이터:  (60000, 28, 28, 1)\n",
            "학습용 출력 데이터:  (60000, 10)\n",
            "평가용 입력 데이터:  (10000, 28, 28, 1)\n",
            "평가용 출력 데이터:  (10000, 10)\n"
          ],
          "name": "stdout"
        }
      ]
    },
    {
      "cell_type": "markdown",
      "metadata": {
        "id": "9Mv7OTbXlskh"
      },
      "source": [
        "3. 인공 신경망 구현"
      ]
    },
    {
      "cell_type": "code",
      "metadata": {
        "colab": {
          "base_uri": "https://localhost:8080/"
        },
        "id": "yr9XZhgJlrXs",
        "outputId": "7b1afea9-f79d-439a-b4a7-85130d72a524"
      },
      "source": [
        "# CNN 구현\r\n",
        "model = Sequential()\r\n",
        "model.add(InputLayer(input_shape=(28, 28, 1)))\r\n",
        "\r\n",
        "# 첫번째 합성곱 블럭\r\n",
        "model.add(Conv2D(filters=32, \r\n",
        "                 kernel_size=2,\r\n",
        "                 padding='same',\r\n",
        "                 activation='relu'))\r\n",
        "\r\n",
        "model.add(MaxPool2D(pool_size=2)) #2는 2배로 줄고, 3은 3배로 줄음\r\n",
        "\r\n",
        "# 두번째 합성곱 블럭\r\n",
        "model.add(Conv2D(filters=64, \r\n",
        "                 kernel_size=2,\r\n",
        "                 padding='same',\r\n",
        "                 activation='relu'))\r\n",
        "\r\n",
        "model.add(MaxPool2D(pool_size=2))\r\n",
        "\r\n",
        "# DNN 입성\r\n",
        "model.add(Flatten()) #DNN으로 입성할 때 Flatten으로 시작!\r\n",
        "\r\n",
        "model.add(Dense(units=128,\r\n",
        "                activation='relu')) \r\n",
        "\r\n",
        "model.add(Dense(units=10,\r\n",
        "                activation='softmax')) #패션 아이템이 10개라서 뉴런 10개 설정\r\n",
        "\r\n",
        "print('CNN 요약')\r\n",
        "model.summary()"
      ],
      "execution_count": 7,
      "outputs": [
        {
          "output_type": "stream",
          "text": [
            "CNN 요약\n",
            "Model: \"sequential\"\n",
            "_________________________________________________________________\n",
            "Layer (type)                 Output Shape              Param #   \n",
            "=================================================================\n",
            "conv2d (Conv2D)              (None, 28, 28, 32)        160       \n",
            "_________________________________________________________________\n",
            "max_pooling2d (MaxPooling2D) (None, 14, 14, 32)        0         \n",
            "_________________________________________________________________\n",
            "conv2d_1 (Conv2D)            (None, 14, 14, 64)        8256      \n",
            "_________________________________________________________________\n",
            "max_pooling2d_1 (MaxPooling2 (None, 7, 7, 64)          0         \n",
            "_________________________________________________________________\n",
            "flatten (Flatten)            (None, 3136)              0         \n",
            "_________________________________________________________________\n",
            "dense (Dense)                (None, 128)               401536    \n",
            "_________________________________________________________________\n",
            "dense_1 (Dense)              (None, 10)                1290      \n",
            "=================================================================\n",
            "Total params: 411,242\n",
            "Trainable params: 411,242\n",
            "Non-trainable params: 0\n",
            "_________________________________________________________________\n"
          ],
          "name": "stdout"
        }
      ]
    },
    {
      "cell_type": "markdown",
      "metadata": {
        "id": "8WOMiYZUxXl3"
      },
      "source": [
        "**4. 인공 신경망 학습**"
      ]
    },
    {
      "cell_type": "code",
      "metadata": {
        "colab": {
          "base_uri": "https://localhost:8080/"
        },
        "id": "pvQVR7Mdxart",
        "outputId": "bedd1db2-7119-4ca8-e40d-4171cba0ed95"
      },
      "source": [
        "# 학습 방식 설정\r\n",
        "model.compile(optimizer='rmsprop', #sgd보다 adam이 정확도가 높게 나온다. sgd일 때, 정확도 0.78\r\n",
        "              #loss='categorical_crossentropy', #crossentropy는 로그 취함\r\n",
        "              loss= 'mse',\r\n",
        "              metrics=['acc'])\r\n",
        "\r\n",
        "# CNN 학습\r\n",
        "print('학습 시작')\r\n",
        "begin = time()\r\n",
        "\r\n",
        "model.fit(x=X_train,\r\n",
        "          y=Y_train,\r\n",
        "          epochs=MY_EPOCH,\r\n",
        "          batch_size=MY_BATCH,\r\n",
        "          verbose=1) #verbose =1 은 출력, 0은 출력안함\r\n",
        "\r\n",
        "end = time()\r\n",
        "print('학습 시간: {:.2f}'.format(end-begin))"
      ],
      "execution_count": 8,
      "outputs": [
        {
          "output_type": "stream",
          "text": [
            "학습 시작\n",
            "Epoch 1/10\n",
            "400/400 [==============================] - 5s 9ms/step - loss: 0.0365 - acc: 0.7282\n",
            "Epoch 2/10\n",
            "400/400 [==============================] - 4s 9ms/step - loss: 0.0180 - acc: 0.8772\n",
            "Epoch 3/10\n",
            "400/400 [==============================] - 4s 9ms/step - loss: 0.0149 - acc: 0.8986\n",
            "Epoch 4/10\n",
            "400/400 [==============================] - 4s 9ms/step - loss: 0.0133 - acc: 0.9106\n",
            "Epoch 5/10\n",
            "400/400 [==============================] - 4s 9ms/step - loss: 0.0121 - acc: 0.9191\n",
            "Epoch 6/10\n",
            "400/400 [==============================] - 4s 9ms/step - loss: 0.0114 - acc: 0.9249\n",
            "Epoch 7/10\n",
            "400/400 [==============================] - 4s 9ms/step - loss: 0.0107 - acc: 0.9279\n",
            "Epoch 8/10\n",
            "400/400 [==============================] - 4s 9ms/step - loss: 0.0099 - acc: 0.9350\n",
            "Epoch 9/10\n",
            "400/400 [==============================] - 4s 9ms/step - loss: 0.0089 - acc: 0.9415\n",
            "Epoch 10/10\n",
            "400/400 [==============================] - 4s 9ms/step - loss: 0.0084 - acc: 0.9461\n",
            "학습 시간: 37.45\n"
          ],
          "name": "stdout"
        }
      ]
    },
    {
      "cell_type": "markdown",
      "metadata": {
        "id": "EfQ1mNHZy8h1"
      },
      "source": [
        "**5. CNN 평가**"
      ]
    },
    {
      "cell_type": "code",
      "metadata": {
        "id": "tyvgIRO5y7wO",
        "colab": {
          "base_uri": "https://localhost:8080/"
        },
        "outputId": "fc950b85-df3e-4329-a3c3-a58b2edde2b4"
      },
      "source": [
        "# CNN 평가\r\n",
        "score = model.evaluate(x=X_test,\r\n",
        "                       y=Y_test,\r\n",
        "                       verbose=1)\r\n",
        "\r\n",
        "print('최종 손실값: {:.2f}'.format(score[0]))\r\n",
        "print('최종 정확도: {:.2f}'.format(score[1]))\r\n"
      ],
      "execution_count": 9,
      "outputs": [
        {
          "output_type": "stream",
          "text": [
            "313/313 [==============================] - 1s 3ms/step - loss: 0.0127 - acc: 0.9144\n",
            "최종 손실값: 0.01\n",
            "최종 정확도: 0.91\n"
          ],
          "name": "stdout"
        }
      ]
    },
    {
      "cell_type": "markdown",
      "metadata": {
        "id": "7iiMKcgVz0JV"
      },
      "source": [
        "**6. CNN 예측**"
      ]
    },
    {
      "cell_type": "code",
      "metadata": {
        "id": "NXLmKQGmz4Ze",
        "colab": {
          "base_uri": "https://localhost:8080/",
          "height": 426
        },
        "outputId": "5f3f13ce-9ee6-4e38-89c5-bc07dae7f94e"
      },
      "source": [
        "# 샘플 이미지 지정\r\n",
        "image = X_test[1234]\r\n",
        "print(image.shape)\r\n",
        "\r\n",
        "# batch 정보 추가 (CNN에선 batch정보가 앞에 들어가야함 )\r\n",
        "image = image.reshape(1, 28, 28, 1)\r\n",
        "pred = model.predict(image)\r\n",
        "\r\n",
        "# 정보 출력\r\n",
        "print('CNN 예측 값: ', pred)\r\n",
        "print('정답: ', Y_test[1234])\r\n",
        "\r\n",
        "\r\n",
        "\r\n",
        "plt.figure(figsize=(5,5))\r\n",
        "tmp = X_train[1234].reshape(28,28)\r\n",
        "tmp = tmp * 255 #정규화한거 다시 돌려주기\r\n",
        "plt.imshow(tmp, cmap='gray')\r\n"
      ],
      "execution_count": 10,
      "outputs": [
        {
          "output_type": "stream",
          "text": [
            "(28, 28, 1)\n",
            "CNN 예측 값:  [[5.36499429e-05 1.70659700e-06 1.40047178e-01 1.02664679e-04\n",
            "  8.56624961e-01 1.96540350e-06 3.15423799e-03 1.04940291e-07\n",
            "  1.28936435e-05 6.83115161e-07]]\n",
            "정답:  [0. 0. 0. 0. 1. 0. 0. 0. 0. 0.]\n"
          ],
          "name": "stdout"
        },
        {
          "output_type": "execute_result",
          "data": {
            "text/plain": [
              "<matplotlib.image.AxesImage at 0x7fc4e77e06d8>"
            ]
          },
          "metadata": {
            "tags": []
          },
          "execution_count": 10
        },
        {
          "output_type": "display_data",
          "data": {
            "image/png": "[encoded data removed]",
            "text/plain": [
              "<Figure size 360x360 with 1 Axes>"
            ]
          },
          "metadata": {
            "tags": [],
            "needs_background": "light"
          }
        }
      ]
    }
  ]
}